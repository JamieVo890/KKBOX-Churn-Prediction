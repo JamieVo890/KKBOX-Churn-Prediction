{
 "cells": [
  {
   "cell_type": "code",
   "execution_count": 1,
   "metadata": {},
   "outputs": [],
   "source": [
    "import pandas as pd\n",
    "import numpy as np\n",
    "import os\n",
    "\n",
    "os.chdir(\"..\")"
   ]
  },
  {
   "cell_type": "code",
   "execution_count": 6,
   "metadata": {},
   "outputs": [],
   "source": [
    "# Read in datasets\n",
    "members_df = pd.read_csv(\"artifacts/data_ingestion/members_v3.csv\")\n",
    "transactions_df = pd.read_csv(\"artifacts/data_ingestion/transactions_v2.csv\")\n",
    "user_logs_df = pd.read_csv(\"artifacts/data_ingestion/user_logs_v2.csv\")\n",
    "train_df = pd.read_csv(\"artifacts/data_ingestion/train_v2.csv\")"
   ]
  },
  {
   "cell_type": "markdown",
   "metadata": {},
   "source": [
    "### Members Dataset:\n",
    "- Drop ages and gender due to outliers\n",
    "- Drop registration time"
   ]
  },
  {
   "cell_type": "code",
   "execution_count": 3,
   "metadata": {},
   "outputs": [],
   "source": [
    "members_df_drop = members_df.drop([\"bd\",\"gender\",\"registration_init_time\"], axis=1)"
   ]
  },
  {
   "cell_type": "markdown",
   "metadata": {},
   "source": [
    "### User Logs Dataset\n",
    "- Sum features by user IDs"
   ]
  },
  {
   "cell_type": "code",
   "execution_count": 4,
   "metadata": {},
   "outputs": [],
   "source": [
    "user_logs_df_summed = user_logs_df.groupby(\"msno\").sum()\n",
    "user_logs_df_summed.reset_index(inplace=True)"
   ]
  },
  {
   "cell_type": "markdown",
   "metadata": {},
   "source": [
    "### Transactions\n",
    "- Get latest transaction of each user ID\n",
    "- Add feature num_prev_transactions\n",
    "- Add feature total_prev_paid\n",
    "- Add feature num_prev_cancelled\n",
    "- Add feature num_prev_discounts\n",
    "- Add feature curr_discount\n",
    "- Drop membership expiry date\n"
   ]
  },
  {
   "cell_type": "code",
   "execution_count": 5,
   "metadata": {},
   "outputs": [],
   "source": [
    "latest_transactions = transactions_df.copy()\n",
    "latest_transactions = latest_transactions.sort_values('transaction_date').drop_duplicates(['msno'], keep='last')"
   ]
  },
  {
   "cell_type": "code",
   "execution_count": 6,
   "metadata": {},
   "outputs": [],
   "source": [
    "prev_transactions = transactions_df.copy()\n",
    "mask = prev_transactions.apply(tuple, axis=1).isin(latest_transactions.apply(tuple, axis=1))\n",
    "prev_transactions = prev_transactions[~mask]"
   ]
  },
  {
   "cell_type": "code",
   "execution_count": 7,
   "metadata": {},
   "outputs": [],
   "source": [
    "num_transactions = prev_transactions.groupby('msno').size().reset_index(name='num_prev_transactions')\n",
    "total_prev_paid = prev_transactions.groupby('msno')['actual_amount_paid'].sum().reset_index(name='total_prev_paid')\n",
    "total_prev_cancelled = prev_transactions.groupby('msno')['is_cancel'].sum().reset_index(name='total_prev_cancelled')\n",
    "num_prev_discounts = prev_transactions[prev_transactions['plan_list_price'] > prev_transactions['actual_amount_paid']].groupby('msno').size().reset_index(name='num_prev_discounts')\n",
    "\n",
    "# Add new features\n",
    "latest_transactions = latest_transactions.merge(num_transactions, on='msno', how='left')\n",
    "latest_transactions = latest_transactions.merge(total_prev_paid, on='msno', how='left')\n",
    "latest_transactions = latest_transactions.merge(num_prev_discounts, on='msno', how='left')\n",
    "latest_transactions = latest_transactions.merge(total_prev_cancelled, on='msno', how='left')\n",
    "\n",
    "# Filling NA values with 0 (for users with no previous transactions)\n",
    "latest_transactions['num_prev_transactions'] = latest_transactions['num_prev_transactions'].fillna(0)\n",
    "latest_transactions['total_prev_paid'] = latest_transactions['total_prev_paid'].fillna(0)\n",
    "latest_transactions['num_prev_discounts'] = latest_transactions['num_prev_discounts'].fillna(0)\n",
    "latest_transactions['total_prev_cancelled'] = latest_transactions['total_prev_cancelled'].fillna(0)\n",
    "\n",
    "latest_transactions[\"curr_discount\"] = (latest_transactions['plan_list_price'] > latest_transactions['actual_amount_paid']).astype(int)\n",
    "latest_transactions = latest_transactions.drop('membership_expire_date',axis=1)\n",
    "latest_transactions = latest_transactions.drop('transaction_date',axis=1)"
   ]
  },
  {
   "cell_type": "markdown",
   "metadata": {},
   "source": [
    "### Merge with train dataset"
   ]
  },
  {
   "cell_type": "code",
   "execution_count": 8,
   "metadata": {},
   "outputs": [],
   "source": [
    "final_dataset = train_df.merge(latest_transactions, on='msno', how='inner')\n",
    "final_dataset = final_dataset.merge(user_logs_df_summed, on='msno', how='inner')\n",
    "final_dataset = final_dataset.merge(members_df_drop, on='msno', how='inner')"
   ]
  },
  {
   "cell_type": "code",
   "execution_count": 9,
   "metadata": {},
   "outputs": [],
   "source": [
    "final_dataset = final_dataset.drop(\"msno\", axis=1)"
   ]
  },
  {
   "cell_type": "code",
   "execution_count": 10,
   "metadata": {},
   "outputs": [
    {
     "name": "stdout",
     "output_type": "stream",
     "text": [
      "<class 'pandas.core.frame.DataFrame'>\n",
      "RangeIndex: 725722 entries, 0 to 725721\n",
      "Data columns (total 23 columns):\n",
      " #   Column                 Non-Null Count   Dtype  \n",
      "---  ------                 --------------   -----  \n",
      " 0   is_churn               725722 non-null  int64  \n",
      " 1   payment_method_id      725722 non-null  int64  \n",
      " 2   payment_plan_days      725722 non-null  int64  \n",
      " 3   plan_list_price        725722 non-null  int64  \n",
      " 4   actual_amount_paid     725722 non-null  int64  \n",
      " 5   is_auto_renew          725722 non-null  int64  \n",
      " 6   transaction_date       725722 non-null  int64  \n",
      " 7   is_cancel              725722 non-null  int64  \n",
      " 8   num_prev_transactions  725722 non-null  float64\n",
      " 9   total_prev_paid        725722 non-null  float64\n",
      " 10  num_prev_discounts     725722 non-null  float64\n",
      " 11  total_prev_cancelled   725722 non-null  float64\n",
      " 12  curr_discount          725722 non-null  int32  \n",
      " 13  date                   725722 non-null  int64  \n",
      " 14  num_25                 725722 non-null  int64  \n",
      " 15  num_50                 725722 non-null  int64  \n",
      " 16  num_75                 725722 non-null  int64  \n",
      " 17  num_985                725722 non-null  int64  \n",
      " 18  num_100                725722 non-null  int64  \n",
      " 19  num_unq                725722 non-null  int64  \n",
      " 20  total_secs             725722 non-null  float64\n",
      " 21  city                   725722 non-null  int64  \n",
      " 22  registered_via         725722 non-null  int64  \n",
      "dtypes: float64(5), int32(1), int64(17)\n",
      "memory usage: 124.6 MB\n"
     ]
    },
    {
     "ename": "",
     "evalue": "",
     "output_type": "error",
     "traceback": [
      "\u001b[1;31mThe Kernel crashed while executing code in the current cell or a previous cell. \n",
      "\u001b[1;31mPlease review the code in the cell(s) to identify a possible cause of the failure. \n",
      "\u001b[1;31mClick <a href='https://aka.ms/vscodeJupyterKernelCrash'>here</a> for more info. \n",
      "\u001b[1;31mView Jupyter <a href='command:jupyter.viewOutput'>log</a> for further details."
     ]
    }
   ],
   "source": [
    "final_dataset.info()"
   ]
  }
 ],
 "metadata": {
  "kernelspec": {
   "display_name": "chest_xray",
   "language": "python",
   "name": "python3"
  },
  "language_info": {
   "codemirror_mode": {
    "name": "ipython",
    "version": 3
   },
   "file_extension": ".py",
   "mimetype": "text/x-python",
   "name": "python",
   "nbconvert_exporter": "python",
   "pygments_lexer": "ipython3",
   "version": "3.11.0"
  }
 },
 "nbformat": 4,
 "nbformat_minor": 2
}

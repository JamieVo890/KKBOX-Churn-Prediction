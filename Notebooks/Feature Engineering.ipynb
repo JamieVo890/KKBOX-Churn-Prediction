{
 "cells": [
  {
   "cell_type": "code",
   "execution_count": 12,
   "metadata": {},
   "outputs": [],
   "source": [
    "import pandas as pd\n",
    "import numpy as np\n",
    "import os\n",
    "import sys\n",
    "from src.entity.config_entity import DataTransformConfig\n",
    "from src.exception import CustomException\n",
    "from src.logger import logging\n",
    "from src.utils import read_yaml, create_directories\n",
    "from pathlib import Path\n",
    "import pandas as pd\n",
    "from sklearn.model_selection import train_test_split\n",
    "from sklearn.compose import ColumnTransformer\n",
    "from sklearn.preprocessing import OneHotEncoder, StandardScaler\n",
    "import numpy as np\n",
    "from src.components.data_transform import DataTransform\n"
   ]
  },
  {
   "cell_type": "code",
   "execution_count": null,
   "metadata": {},
   "outputs": [],
   "source": [
    "os.chdir(\"..\")"
   ]
  },
  {
   "cell_type": "code",
   "execution_count": 2,
   "metadata": {},
   "outputs": [],
   "source": [
    "# Read in datasets\n",
    "members_df = pd.read_csv(\"artifacts/data_ingestion/members_v3.csv\")\n",
    "transactions_df = pd.read_csv(\"artifacts/data_ingestion/transactions_v2.csv\")\n",
    "user_logs_df = pd.read_csv(\"artifacts/data_ingestion/user_logs_v2.csv\")\n",
    "train_df = pd.read_csv(\"artifacts/data_ingestion/train_v2.csv\")"
   ]
  },
  {
   "cell_type": "markdown",
   "metadata": {},
   "source": [
    "### Members Dataset:\n",
    "- Drop ages and gender due to outliers\n",
    "- Drop registration time"
   ]
  },
  {
   "cell_type": "code",
   "execution_count": 3,
   "metadata": {},
   "outputs": [],
   "source": [
    "members_df_drop = members_df.drop([\"bd\",\"gender\",\"registration_init_time\"], axis=1)"
   ]
  },
  {
   "cell_type": "markdown",
   "metadata": {},
   "source": [
    "### User Logs Dataset\n",
    "- Sum features by user IDs"
   ]
  },
  {
   "cell_type": "code",
   "execution_count": 4,
   "metadata": {},
   "outputs": [],
   "source": [
    "user_logs_df_summed = user_logs_df.groupby(\"msno\").sum()\n",
    "user_logs_df_summed.reset_index(inplace=True)"
   ]
  },
  {
   "cell_type": "markdown",
   "metadata": {},
   "source": [
    "### Transactions\n",
    "- Get latest transaction of each user ID\n",
    "- Add feature num_prev_transactions\n",
    "- Add feature total_prev_paid\n",
    "- Add feature num_prev_cancelled\n",
    "- Add feature num_prev_discounts\n",
    "- Add feature curr_discount\n",
    "- Drop membership expiry date\n"
   ]
  },
  {
   "cell_type": "code",
   "execution_count": 5,
   "metadata": {},
   "outputs": [],
   "source": [
    "latest_transactions = transactions_df.copy()\n",
    "latest_transactions = latest_transactions.sort_values('transaction_date').drop_duplicates(['msno'], keep='last')"
   ]
  },
  {
   "cell_type": "code",
   "execution_count": 6,
   "metadata": {},
   "outputs": [],
   "source": [
    "prev_transactions = transactions_df.copy()\n",
    "mask = prev_transactions.apply(tuple, axis=1).isin(latest_transactions.apply(tuple, axis=1))\n",
    "prev_transactions = prev_transactions[~mask]"
   ]
  },
  {
   "cell_type": "code",
   "execution_count": 7,
   "metadata": {},
   "outputs": [],
   "source": [
    "num_transactions = prev_transactions.groupby('msno').size().reset_index(name='num_prev_transactions')\n",
    "total_prev_paid = prev_transactions.groupby('msno')['actual_amount_paid'].sum().reset_index(name='total_prev_paid')\n",
    "total_prev_cancelled = prev_transactions.groupby('msno')['is_cancel'].sum().reset_index(name='total_prev_cancelled')\n",
    "num_prev_discounts = prev_transactions[prev_transactions['plan_list_price'] > prev_transactions['actual_amount_paid']].groupby('msno').size().reset_index(name='num_prev_discounts')\n",
    "\n",
    "# Add new features\n",
    "latest_transactions = latest_transactions.merge(num_transactions, on='msno', how='left')\n",
    "latest_transactions = latest_transactions.merge(total_prev_paid, on='msno', how='left')\n",
    "latest_transactions = latest_transactions.merge(num_prev_discounts, on='msno', how='left')\n",
    "latest_transactions = latest_transactions.merge(total_prev_cancelled, on='msno', how='left')\n",
    "\n",
    "# Filling NA values with 0 (for users with no previous transactions)\n",
    "latest_transactions['num_prev_transactions'] = latest_transactions['num_prev_transactions'].fillna(0)\n",
    "latest_transactions['total_prev_paid'] = latest_transactions['total_prev_paid'].fillna(0)\n",
    "latest_transactions['num_prev_discounts'] = latest_transactions['num_prev_discounts'].fillna(0)\n",
    "latest_transactions['total_prev_cancelled'] = latest_transactions['total_prev_cancelled'].fillna(0)\n",
    "\n",
    "latest_transactions[\"curr_discount\"] = (latest_transactions['plan_list_price'] > latest_transactions['actual_amount_paid']).astype(int)\n",
    "latest_transactions = latest_transactions.drop('membership_expire_date',axis=1)\n",
    "latest_transactions = latest_transactions.drop('transaction_date',axis=1)"
   ]
  },
  {
   "cell_type": "markdown",
   "metadata": {},
   "source": [
    "### Merge with train dataset"
   ]
  },
  {
   "cell_type": "code",
   "execution_count": 24,
   "metadata": {},
   "outputs": [],
   "source": [
    "final_dataset = train_df.merge(latest_transactions, on='msno', how='inner')\n",
    "final_dataset = final_dataset.merge(user_logs_df_summed, on='msno', how='inner')\n",
    "final_dataset = final_dataset.merge(members_df_drop, on='msno', how='inner')"
   ]
  },
  {
   "cell_type": "code",
   "execution_count": 25,
   "metadata": {},
   "outputs": [],
   "source": [
    "final_dataset = final_dataset.drop(\"msno\", axis=1)"
   ]
  },
  {
   "cell_type": "code",
   "execution_count": null,
   "metadata": {},
   "outputs": [],
   "source": [
    "#EXtra"
   ]
  },
  {
   "cell_type": "code",
   "execution_count": 30,
   "metadata": {},
   "outputs": [
    {
     "data": {
      "text/html": [
       "<div>\n",
       "<style scoped>\n",
       "    .dataframe tbody tr th:only-of-type {\n",
       "        vertical-align: middle;\n",
       "    }\n",
       "\n",
       "    .dataframe tbody tr th {\n",
       "        vertical-align: top;\n",
       "    }\n",
       "\n",
       "    .dataframe thead th {\n",
       "        text-align: right;\n",
       "    }\n",
       "</style>\n",
       "<table border=\"1\" class=\"dataframe\">\n",
       "  <thead>\n",
       "    <tr style=\"text-align: right;\">\n",
       "      <th></th>\n",
       "      <th>payment_method_id</th>\n",
       "      <th>city</th>\n",
       "      <th>registered_via</th>\n",
       "    </tr>\n",
       "  </thead>\n",
       "  <tbody>\n",
       "    <tr>\n",
       "      <th>count</th>\n",
       "      <td>725722.000000</td>\n",
       "      <td>725722.000000</td>\n",
       "      <td>725722.000000</td>\n",
       "    </tr>\n",
       "    <tr>\n",
       "      <th>mean</th>\n",
       "      <td>38.582516</td>\n",
       "      <td>6.197446</td>\n",
       "      <td>6.907958</td>\n",
       "    </tr>\n",
       "    <tr>\n",
       "      <th>std</th>\n",
       "      <td>3.935867</td>\n",
       "      <td>6.503173</td>\n",
       "      <td>1.961436</td>\n",
       "    </tr>\n",
       "    <tr>\n",
       "      <th>min</th>\n",
       "      <td>3.000000</td>\n",
       "      <td>1.000000</td>\n",
       "      <td>3.000000</td>\n",
       "    </tr>\n",
       "    <tr>\n",
       "      <th>25%</th>\n",
       "      <td>37.000000</td>\n",
       "      <td>1.000000</td>\n",
       "      <td>7.000000</td>\n",
       "    </tr>\n",
       "    <tr>\n",
       "      <th>50%</th>\n",
       "      <td>41.000000</td>\n",
       "      <td>4.000000</td>\n",
       "      <td>7.000000</td>\n",
       "    </tr>\n",
       "    <tr>\n",
       "      <th>75%</th>\n",
       "      <td>41.000000</td>\n",
       "      <td>13.000000</td>\n",
       "      <td>9.000000</td>\n",
       "    </tr>\n",
       "    <tr>\n",
       "      <th>max</th>\n",
       "      <td>41.000000</td>\n",
       "      <td>22.000000</td>\n",
       "      <td>13.000000</td>\n",
       "    </tr>\n",
       "  </tbody>\n",
       "</table>\n",
       "</div>"
      ],
      "text/plain": [
       "       payment_method_id           city  registered_via\n",
       "count      725722.000000  725722.000000   725722.000000\n",
       "mean           38.582516       6.197446        6.907958\n",
       "std             3.935867       6.503173        1.961436\n",
       "min             3.000000       1.000000        3.000000\n",
       "25%            37.000000       1.000000        7.000000\n",
       "50%            41.000000       4.000000        7.000000\n",
       "75%            41.000000      13.000000        9.000000\n",
       "max            41.000000      22.000000       13.000000"
      ]
     },
     "execution_count": 30,
     "metadata": {},
     "output_type": "execute_result"
    }
   ],
   "source": [
    "X = final_dataset.drop(\"is_churn\", axis=1)\n"
   ]
  },
  {
   "cell_type": "code",
   "execution_count": 31,
   "metadata": {},
   "outputs": [
    {
     "data": {
      "text/plain": [
       "array([36, 15, 41, 40, 38, 32, 39, 35, 20, 30, 29, 16, 37, 13, 22, 28, 34,\n",
       "       10, 31, 26, 27, 21, 33, 17, 12, 18, 23, 19,  3, 14,  6,  8, 11],\n",
       "      dtype=int64)"
      ]
     },
     "execution_count": 31,
     "metadata": {},
     "output_type": "execute_result"
    }
   ],
   "source": [
    "X[\"payment_method_id\"].unique()"
   ]
  },
  {
   "cell_type": "code",
   "execution_count": 32,
   "metadata": {},
   "outputs": [
    {
     "data": {
      "text/plain": [
       "array([13, 22,  9,  1, 14,  4, 15, 18, 12,  3, 21,  6,  5,  8,  7, 17, 11,\n",
       "       10, 16, 20, 19], dtype=int64)"
      ]
     },
     "execution_count": 32,
     "metadata": {},
     "output_type": "execute_result"
    }
   ],
   "source": [
    "X[\"city\"].unique()"
   ]
  },
  {
   "cell_type": "code",
   "execution_count": 33,
   "metadata": {},
   "outputs": [
    {
     "data": {
      "text/plain": [
       "array([ 3,  7,  9,  4, 13], dtype=int64)"
      ]
     },
     "execution_count": 33,
     "metadata": {},
     "output_type": "execute_result"
    }
   ],
   "source": [
    "X[\"registered_via\"].unique()"
   ]
  },
  {
   "cell_type": "code",
   "execution_count": 20,
   "metadata": {},
   "outputs": [],
   "source": [
    "transformer = DataTransform()\n",
    "X = final_dataset.drop(\"is_churn\", axis=1)\n",
    "\n",
    "categorical_var = [\"payment_method_id\", \"city\", \"registered_via\"]\n",
    "numerical_var = X.columns.difference(categorical_var)\n",
    "preprocessor = transformer.get_preprocessor(categorical_var, numerical_var)\n",
    "\n",
    "X_train_final = preprocessor.fit_transform(X).toarray()"
   ]
  },
  {
   "cell_type": "code",
   "execution_count": 23,
   "metadata": {},
   "outputs": [
    {
     "data": {
      "text/plain": [
       "(967019, 76)"
      ]
     },
     "execution_count": 23,
     "metadata": {},
     "output_type": "execute_result"
    }
   ],
   "source": [
    "X_train_final.shape"
   ]
  }
 ],
 "metadata": {
  "kernelspec": {
   "display_name": "chest_xray",
   "language": "python",
   "name": "python3"
  },
  "language_info": {
   "codemirror_mode": {
    "name": "ipython",
    "version": 3
   },
   "file_extension": ".py",
   "mimetype": "text/x-python",
   "name": "python",
   "nbconvert_exporter": "python",
   "pygments_lexer": "ipython3",
   "version": "3.11.0"
  }
 },
 "nbformat": 4,
 "nbformat_minor": 2
}
